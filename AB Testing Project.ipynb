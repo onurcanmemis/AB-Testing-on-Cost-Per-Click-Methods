{
 "cells": [
  {
   "cell_type": "code",
   "execution_count": null,
   "metadata": {},
   "outputs": [],
   "source": []
  },
  {
   "cell_type": "markdown",
   "metadata": {},
   "source": [
    "# Business Problem: \n",
    "* A new cost per click method has been introduced by Facebook. This new method is called \"Maximum bidding\".\n",
    "* Besides a method called \"Average bidding\" already exists. Average cost bidding allows you to tell us what you want your average cost per result to be, \n",
    "* while maximum cost bidding is the maximum amount you're willing to pay for any given result. Our client bombabomba.com wants to know whether\n",
    "* \"Maximum bidding\" leads to more purchase than \"average bidding\" or not. \n",
    "* An A/B test has been performed for the last 1 month. This test will be analyzed to see if new method provides a different result in purchases than the old one."
   ]
  },
  {
   "cell_type": "markdown",
   "metadata": {},
   "source": [
    "### Explaining variables\n",
    "* Impression: Number of times advertisement has been viewed\n",
    "* Click: Number of click after advertisement has been viewed\n",
    "* Purchase: Number of product purchase after clicking on advertisement\n",
    "* Earning: Money gained after advertisement based purchases"
   ]
  },
  {
   "cell_type": "code",
   "execution_count": 1,
   "metadata": {},
   "outputs": [],
   "source": [
    "import itertools\n",
    "import numpy as np\n",
    "import pandas as pd\n",
    "import matplotlib.pyplot as plt\n",
    "import seaborn as sns\n",
    "# !pip install statsmodels\n",
    "import statsmodels.stats.api as sms\n",
    "from scipy.stats import ttest_1samp, shapiro, levene, ttest_ind, mannwhitneyu, \\\n",
    "    pearsonr, spearmanr, kendalltau, f_oneway, kruskal\n",
    "from statsmodels.stats.proportion import proportions_ztest"
   ]
  },
  {
   "cell_type": "code",
   "execution_count": 2,
   "metadata": {},
   "outputs": [],
   "source": [
    "# * What's CPC? \n",
    "# Cost-per-click (CPC) bidding means that you pay for each click on your ads. \n",
    "\n",
    "\n",
    "# * What's Maximum CPC method?\n",
    "# For CPC bidding campaigns, you set a maximum cost-per-click bid - or simply \"max. CPC\" - that's the highest amount that \n",
    "# you're willing to pay for a click on your ad (unless you're setting bid adjustments, or using Enhanced CPC)."
   ]
  },
  {
   "cell_type": "code",
   "execution_count": 3,
   "metadata": {},
   "outputs": [],
   "source": [
    "pd.set_option('display.max_columns', None)\n",
    "pd.set_option('display.max_rows', 10)\n",
    "pd.set_option('display.float_format', lambda x: '%.2f' % x)\n",
    "\n",
    "# control_df represents the \"maximum bidding\" method \n",
    "# test_df represents the \"average_bidding\" method"
   ]
  },
  {
   "cell_type": "code",
   "execution_count": 4,
   "metadata": {},
   "outputs": [
    {
     "data": {
      "text/html": [
       "<div>\n",
       "<style scoped>\n",
       "    .dataframe tbody tr th:only-of-type {\n",
       "        vertical-align: middle;\n",
       "    }\n",
       "\n",
       "    .dataframe tbody tr th {\n",
       "        vertical-align: top;\n",
       "    }\n",
       "\n",
       "    .dataframe thead th {\n",
       "        text-align: right;\n",
       "    }\n",
       "</style>\n",
       "<table border=\"1\" class=\"dataframe\">\n",
       "  <thead>\n",
       "    <tr style=\"text-align: right;\">\n",
       "      <th></th>\n",
       "      <th>Impression</th>\n",
       "      <th>Click</th>\n",
       "      <th>Purchase</th>\n",
       "      <th>Earning</th>\n",
       "    </tr>\n",
       "  </thead>\n",
       "  <tbody>\n",
       "    <tr>\n",
       "      <th>0</th>\n",
       "      <td>82529.46</td>\n",
       "      <td>6090.08</td>\n",
       "      <td>665.21</td>\n",
       "      <td>2311.28</td>\n",
       "    </tr>\n",
       "    <tr>\n",
       "      <th>1</th>\n",
       "      <td>98050.45</td>\n",
       "      <td>3382.86</td>\n",
       "      <td>315.08</td>\n",
       "      <td>1742.81</td>\n",
       "    </tr>\n",
       "  </tbody>\n",
       "</table>\n",
       "</div>"
      ],
      "text/plain": [
       "   Impression   Click  Purchase  Earning\n",
       "0    82529.46 6090.08    665.21  2311.28\n",
       "1    98050.45 3382.86    315.08  1742.81"
      ]
     },
     "execution_count": 4,
     "metadata": {},
     "output_type": "execute_result"
    }
   ],
   "source": [
    "control_df=pd.read_excel(r\"C:\\Users\\ONUR\\ab_testing.xlsx\",sheet_name=0)\n",
    "control_df.head(2)"
   ]
  },
  {
   "cell_type": "code",
   "execution_count": 5,
   "metadata": {},
   "outputs": [
    {
     "data": {
      "text/html": [
       "<div>\n",
       "<style scoped>\n",
       "    .dataframe tbody tr th:only-of-type {\n",
       "        vertical-align: middle;\n",
       "    }\n",
       "\n",
       "    .dataframe tbody tr th {\n",
       "        vertical-align: top;\n",
       "    }\n",
       "\n",
       "    .dataframe thead th {\n",
       "        text-align: right;\n",
       "    }\n",
       "</style>\n",
       "<table border=\"1\" class=\"dataframe\">\n",
       "  <thead>\n",
       "    <tr style=\"text-align: right;\">\n",
       "      <th></th>\n",
       "      <th>Impression</th>\n",
       "      <th>Click</th>\n",
       "      <th>Purchase</th>\n",
       "      <th>Earning</th>\n",
       "    </tr>\n",
       "  </thead>\n",
       "  <tbody>\n",
       "    <tr>\n",
       "      <th>0</th>\n",
       "      <td>120103.50</td>\n",
       "      <td>3216.55</td>\n",
       "      <td>702.16</td>\n",
       "      <td>1939.61</td>\n",
       "    </tr>\n",
       "    <tr>\n",
       "      <th>1</th>\n",
       "      <td>134775.94</td>\n",
       "      <td>3635.08</td>\n",
       "      <td>834.05</td>\n",
       "      <td>2929.41</td>\n",
       "    </tr>\n",
       "  </tbody>\n",
       "</table>\n",
       "</div>"
      ],
      "text/plain": [
       "   Impression   Click  Purchase  Earning\n",
       "0   120103.50 3216.55    702.16  1939.61\n",
       "1   134775.94 3635.08    834.05  2929.41"
      ]
     },
     "execution_count": 5,
     "metadata": {},
     "output_type": "execute_result"
    }
   ],
   "source": [
    "test_df=pd.read_excel(r\"C:\\Users\\ONUR\\ab_testing.xlsx\",sheet_name=1)\n",
    "test_df.head(2)"
   ]
  },
  {
   "cell_type": "markdown",
   "metadata": {},
   "source": [
    "### Analysis of both method together"
   ]
  },
  {
   "cell_type": "code",
   "execution_count": 6,
   "metadata": {},
   "outputs": [
    {
     "data": {
      "text/html": [
       "<div>\n",
       "<style scoped>\n",
       "    .dataframe tbody tr th:only-of-type {\n",
       "        vertical-align: middle;\n",
       "    }\n",
       "\n",
       "    .dataframe tbody tr th {\n",
       "        vertical-align: top;\n",
       "    }\n",
       "\n",
       "    .dataframe thead th {\n",
       "        text-align: right;\n",
       "    }\n",
       "</style>\n",
       "<table border=\"1\" class=\"dataframe\">\n",
       "  <thead>\n",
       "    <tr style=\"text-align: right;\">\n",
       "      <th></th>\n",
       "      <th>count</th>\n",
       "      <th>mean</th>\n",
       "      <th>std</th>\n",
       "      <th>min</th>\n",
       "      <th>25%</th>\n",
       "      <th>50%</th>\n",
       "      <th>75%</th>\n",
       "      <th>max</th>\n",
       "    </tr>\n",
       "  </thead>\n",
       "  <tbody>\n",
       "    <tr>\n",
       "      <th>Impression</th>\n",
       "      <td>40.00</td>\n",
       "      <td>101711.45</td>\n",
       "      <td>20302.16</td>\n",
       "      <td>45475.94</td>\n",
       "      <td>85726.69</td>\n",
       "      <td>99790.70</td>\n",
       "      <td>115212.82</td>\n",
       "      <td>147539.34</td>\n",
       "    </tr>\n",
       "    <tr>\n",
       "      <th>Click</th>\n",
       "      <td>40.00</td>\n",
       "      <td>5100.66</td>\n",
       "      <td>1329.99</td>\n",
       "      <td>2189.75</td>\n",
       "      <td>4124.30</td>\n",
       "      <td>5001.22</td>\n",
       "      <td>5923.80</td>\n",
       "      <td>7959.13</td>\n",
       "    </tr>\n",
       "    <tr>\n",
       "      <th>Purchase</th>\n",
       "      <td>40.00</td>\n",
       "      <td>550.89</td>\n",
       "      <td>134.11</td>\n",
       "      <td>267.03</td>\n",
       "      <td>470.10</td>\n",
       "      <td>531.21</td>\n",
       "      <td>637.96</td>\n",
       "      <td>801.80</td>\n",
       "    </tr>\n",
       "    <tr>\n",
       "      <th>Earning</th>\n",
       "      <td>40.00</td>\n",
       "      <td>1908.57</td>\n",
       "      <td>302.92</td>\n",
       "      <td>1253.99</td>\n",
       "      <td>1685.85</td>\n",
       "      <td>1975.16</td>\n",
       "      <td>2119.80</td>\n",
       "      <td>2497.30</td>\n",
       "    </tr>\n",
       "  </tbody>\n",
       "</table>\n",
       "</div>"
      ],
      "text/plain": [
       "            count      mean      std      min      25%      50%       75%  \\\n",
       "Impression  40.00 101711.45 20302.16 45475.94 85726.69 99790.70 115212.82   \n",
       "Click       40.00   5100.66  1329.99  2189.75  4124.30  5001.22   5923.80   \n",
       "Purchase    40.00    550.89   134.11   267.03   470.10   531.21    637.96   \n",
       "Earning     40.00   1908.57   302.92  1253.99  1685.85  1975.16   2119.80   \n",
       "\n",
       "                 max  \n",
       "Impression 147539.34  \n",
       "Click        7959.13  \n",
       "Purchase      801.80  \n",
       "Earning      2497.30  "
      ]
     },
     "execution_count": 6,
     "metadata": {},
     "output_type": "execute_result"
    }
   ],
   "source": [
    "control_df.describe().T"
   ]
  },
  {
   "cell_type": "code",
   "execution_count": 7,
   "metadata": {},
   "outputs": [
    {
     "data": {
      "text/html": [
       "<div>\n",
       "<style scoped>\n",
       "    .dataframe tbody tr th:only-of-type {\n",
       "        vertical-align: middle;\n",
       "    }\n",
       "\n",
       "    .dataframe tbody tr th {\n",
       "        vertical-align: top;\n",
       "    }\n",
       "\n",
       "    .dataframe thead th {\n",
       "        text-align: right;\n",
       "    }\n",
       "</style>\n",
       "<table border=\"1\" class=\"dataframe\">\n",
       "  <thead>\n",
       "    <tr style=\"text-align: right;\">\n",
       "      <th></th>\n",
       "      <th>count</th>\n",
       "      <th>mean</th>\n",
       "      <th>std</th>\n",
       "      <th>min</th>\n",
       "      <th>25%</th>\n",
       "      <th>50%</th>\n",
       "      <th>75%</th>\n",
       "      <th>max</th>\n",
       "    </tr>\n",
       "  </thead>\n",
       "  <tbody>\n",
       "    <tr>\n",
       "      <th>Impression</th>\n",
       "      <td>40.00</td>\n",
       "      <td>120512.41</td>\n",
       "      <td>18807.45</td>\n",
       "      <td>79033.83</td>\n",
       "      <td>112691.97</td>\n",
       "      <td>119291.30</td>\n",
       "      <td>132050.58</td>\n",
       "      <td>158605.92</td>\n",
       "    </tr>\n",
       "    <tr>\n",
       "      <th>Click</th>\n",
       "      <td>40.00</td>\n",
       "      <td>3967.55</td>\n",
       "      <td>923.10</td>\n",
       "      <td>1836.63</td>\n",
       "      <td>3376.82</td>\n",
       "      <td>3931.36</td>\n",
       "      <td>4660.50</td>\n",
       "      <td>6019.70</td>\n",
       "    </tr>\n",
       "    <tr>\n",
       "      <th>Purchase</th>\n",
       "      <td>40.00</td>\n",
       "      <td>582.11</td>\n",
       "      <td>161.15</td>\n",
       "      <td>311.63</td>\n",
       "      <td>444.63</td>\n",
       "      <td>551.36</td>\n",
       "      <td>699.86</td>\n",
       "      <td>889.91</td>\n",
       "    </tr>\n",
       "    <tr>\n",
       "      <th>Earning</th>\n",
       "      <td>40.00</td>\n",
       "      <td>2514.89</td>\n",
       "      <td>282.73</td>\n",
       "      <td>1939.61</td>\n",
       "      <td>2280.54</td>\n",
       "      <td>2544.67</td>\n",
       "      <td>2761.55</td>\n",
       "      <td>3171.49</td>\n",
       "    </tr>\n",
       "  </tbody>\n",
       "</table>\n",
       "</div>"
      ],
      "text/plain": [
       "            count      mean      std      min       25%       50%       75%  \\\n",
       "Impression  40.00 120512.41 18807.45 79033.83 112691.97 119291.30 132050.58   \n",
       "Click       40.00   3967.55   923.10  1836.63   3376.82   3931.36   4660.50   \n",
       "Purchase    40.00    582.11   161.15   311.63    444.63    551.36    699.86   \n",
       "Earning     40.00   2514.89   282.73  1939.61   2280.54   2544.67   2761.55   \n",
       "\n",
       "                 max  \n",
       "Impression 158605.92  \n",
       "Click        6019.70  \n",
       "Purchase      889.91  \n",
       "Earning      3171.49  "
      ]
     },
     "execution_count": 7,
     "metadata": {},
     "output_type": "execute_result"
    }
   ],
   "source": [
    "test_df.describe().T"
   ]
  },
  {
   "cell_type": "code",
   "execution_count": 8,
   "metadata": {},
   "outputs": [
    {
     "data": {
      "text/plain": [
       "<matplotlib.axes._subplots.AxesSubplot at 0x1f508c3b640>"
      ]
     },
     "execution_count": 8,
     "metadata": {},
     "output_type": "execute_result"
    },
    {
     "data": {
      "image/png": "[encoded data removed]",
      "text/plain": [
       "<Figure size 432x288 with 1 Axes>"
      ]
     },
     "metadata": {
      "needs_background": "light"
     },
     "output_type": "display_data"
    }
   ],
   "source": [
    "sns.violinplot(control_df[\"Purchase\"])"
   ]
  },
  {
   "cell_type": "code",
   "execution_count": 9,
   "metadata": {},
   "outputs": [
    {
     "data": {
      "text/plain": [
       "<matplotlib.axes._subplots.AxesSubplot at 0x1f50937fdc0>"
      ]
     },
     "execution_count": 9,
     "metadata": {},
     "output_type": "execute_result"
    },
    {
     "data": {
      "image/png": "[encoded data removed]",
      "text/plain": [
       "<Figure size 432x288 with 1 Axes>"
      ]
     },
     "metadata": {
      "needs_background": "light"
     },
     "output_type": "display_data"
    }
   ],
   "source": [
    "sns.violinplot(test_df[\"Purchase\"])"
   ]
  },
  {
   "cell_type": "code",
   "execution_count": 10,
   "metadata": {},
   "outputs": [
    {
     "data": {
      "text/plain": [
       "<matplotlib.axes._subplots.AxesSubplot at 0x1f5093d80a0>"
      ]
     },
     "execution_count": 10,
     "metadata": {},
     "output_type": "execute_result"
    },
    {
     "data": {
      "image/png": "[encoded data removed]",
      "text/plain": [
       "<Figure size 432x288 with 1 Axes>"
      ]
     },
     "metadata": {
      "needs_background": "light"
     },
     "output_type": "display_data"
    }
   ],
   "source": [
    "sns.boxplot(control_df[\"Purchase\"],notch=True)"
   ]
  },
  {
   "cell_type": "code",
   "execution_count": 11,
   "metadata": {},
   "outputs": [
    {
     "data": {
      "text/plain": [
       "<matplotlib.axes._subplots.AxesSubplot at 0x1f5094353d0>"
      ]
     },
     "execution_count": 11,
     "metadata": {},
     "output_type": "execute_result"
    },
    {
     "data": {
      "image/png": "[encoded data removed]",
      "text/plain": [
       "<Figure size 432x288 with 1 Axes>"
      ]
     },
     "metadata": {
      "needs_background": "light"
     },
     "output_type": "display_data"
    }
   ],
   "source": [
    "sns.boxplot(test_df[\"Purchase\"],notch=True)"
   ]
  },
  {
   "cell_type": "code",
   "execution_count": 12,
   "metadata": {},
   "outputs": [
    {
     "data": {
      "text/plain": [
       "<matplotlib.axes._subplots.AxesSubplot at 0x1f509494130>"
      ]
     },
     "execution_count": 12,
     "metadata": {},
     "output_type": "execute_result"
    },
    {
     "data": {
      "image/png": "[encoded data removed]",
      "text/plain": [
       "<Figure size 432x288 with 1 Axes>"
      ]
     },
     "metadata": {
      "needs_background": "light"
     },
     "output_type": "display_data"
    }
   ],
   "source": [
    "sns.distplot(test_df[\"Purchase\"],bins=7)"
   ]
  },
  {
   "cell_type": "code",
   "execution_count": 13,
   "metadata": {},
   "outputs": [
    {
     "data": {
      "text/plain": [
       "<matplotlib.axes._subplots.AxesSubplot at 0x1f5094fc8b0>"
      ]
     },
     "execution_count": 13,
     "metadata": {},
     "output_type": "execute_result"
    },
    {
     "data": {
      "image/png": "[encoded data removed]",
      "text/plain": [
       "<Figure size 432x288 with 1 Axes>"
      ]
     },
     "metadata": {
      "needs_background": "light"
     },
     "output_type": "display_data"
    }
   ],
   "source": [
    "sns.distplot(control_df[\"Purchase\"],bins=7)"
   ]
  },
  {
   "cell_type": "code",
   "execution_count": 14,
   "metadata": {},
   "outputs": [
    {
     "data": {
      "text/html": [
       "<div>\n",
       "<style scoped>\n",
       "    .dataframe tbody tr th:only-of-type {\n",
       "        vertical-align: middle;\n",
       "    }\n",
       "\n",
       "    .dataframe tbody tr th {\n",
       "        vertical-align: top;\n",
       "    }\n",
       "\n",
       "    .dataframe thead th {\n",
       "        text-align: right;\n",
       "    }\n",
       "</style>\n",
       "<table border=\"1\" class=\"dataframe\">\n",
       "  <thead>\n",
       "    <tr style=\"text-align: right;\">\n",
       "      <th></th>\n",
       "      <th>Impression_Control</th>\n",
       "      <th>Click_Control</th>\n",
       "      <th>Purchase_Control</th>\n",
       "      <th>Earning_Control</th>\n",
       "    </tr>\n",
       "  </thead>\n",
       "  <tbody>\n",
       "    <tr>\n",
       "      <th>0</th>\n",
       "      <td>82529.46</td>\n",
       "      <td>6090.08</td>\n",
       "      <td>665.21</td>\n",
       "      <td>2311.28</td>\n",
       "    </tr>\n",
       "    <tr>\n",
       "      <th>1</th>\n",
       "      <td>98050.45</td>\n",
       "      <td>3382.86</td>\n",
       "      <td>315.08</td>\n",
       "      <td>1742.81</td>\n",
       "    </tr>\n",
       "    <tr>\n",
       "      <th>2</th>\n",
       "      <td>82696.02</td>\n",
       "      <td>4167.97</td>\n",
       "      <td>458.08</td>\n",
       "      <td>1797.83</td>\n",
       "    </tr>\n",
       "    <tr>\n",
       "      <th>3</th>\n",
       "      <td>109914.40</td>\n",
       "      <td>4910.88</td>\n",
       "      <td>487.09</td>\n",
       "      <td>1696.23</td>\n",
       "    </tr>\n",
       "    <tr>\n",
       "      <th>4</th>\n",
       "      <td>108457.76</td>\n",
       "      <td>5987.66</td>\n",
       "      <td>441.03</td>\n",
       "      <td>1543.72</td>\n",
       "    </tr>\n",
       "  </tbody>\n",
       "</table>\n",
       "</div>"
      ],
      "text/plain": [
       "   Impression_Control  Click_Control  Purchase_Control  Earning_Control\n",
       "0            82529.46        6090.08            665.21          2311.28\n",
       "1            98050.45        3382.86            315.08          1742.81\n",
       "2            82696.02        4167.97            458.08          1797.83\n",
       "3           109914.40        4910.88            487.09          1696.23\n",
       "4           108457.76        5987.66            441.03          1543.72"
      ]
     },
     "execution_count": 14,
     "metadata": {},
     "output_type": "execute_result"
    }
   ],
   "source": [
    "control_df.columns=[col+\"_Control\" for col in control_df.columns]\n",
    "control_df.head()"
   ]
  },
  {
   "cell_type": "code",
   "execution_count": 15,
   "metadata": {},
   "outputs": [
    {
     "data": {
      "text/html": [
       "<div>\n",
       "<style scoped>\n",
       "    .dataframe tbody tr th:only-of-type {\n",
       "        vertical-align: middle;\n",
       "    }\n",
       "\n",
       "    .dataframe tbody tr th {\n",
       "        vertical-align: top;\n",
       "    }\n",
       "\n",
       "    .dataframe thead th {\n",
       "        text-align: right;\n",
       "    }\n",
       "</style>\n",
       "<table border=\"1\" class=\"dataframe\">\n",
       "  <thead>\n",
       "    <tr style=\"text-align: right;\">\n",
       "      <th></th>\n",
       "      <th>Impression_Test</th>\n",
       "      <th>Click_Test</th>\n",
       "      <th>Purchase_Test</th>\n",
       "      <th>Earning_Test</th>\n",
       "    </tr>\n",
       "  </thead>\n",
       "  <tbody>\n",
       "    <tr>\n",
       "      <th>0</th>\n",
       "      <td>120103.50</td>\n",
       "      <td>3216.55</td>\n",
       "      <td>702.16</td>\n",
       "      <td>1939.61</td>\n",
       "    </tr>\n",
       "    <tr>\n",
       "      <th>1</th>\n",
       "      <td>134775.94</td>\n",
       "      <td>3635.08</td>\n",
       "      <td>834.05</td>\n",
       "      <td>2929.41</td>\n",
       "    </tr>\n",
       "    <tr>\n",
       "      <th>2</th>\n",
       "      <td>107806.62</td>\n",
       "      <td>3057.14</td>\n",
       "      <td>422.93</td>\n",
       "      <td>2526.24</td>\n",
       "    </tr>\n",
       "    <tr>\n",
       "      <th>3</th>\n",
       "      <td>116445.28</td>\n",
       "      <td>4650.47</td>\n",
       "      <td>429.03</td>\n",
       "      <td>2281.43</td>\n",
       "    </tr>\n",
       "    <tr>\n",
       "      <th>4</th>\n",
       "      <td>145082.52</td>\n",
       "      <td>5201.39</td>\n",
       "      <td>749.86</td>\n",
       "      <td>2781.70</td>\n",
       "    </tr>\n",
       "  </tbody>\n",
       "</table>\n",
       "</div>"
      ],
      "text/plain": [
       "   Impression_Test  Click_Test  Purchase_Test  Earning_Test\n",
       "0        120103.50     3216.55         702.16       1939.61\n",
       "1        134775.94     3635.08         834.05       2929.41\n",
       "2        107806.62     3057.14         422.93       2526.24\n",
       "3        116445.28     4650.47         429.03       2281.43\n",
       "4        145082.52     5201.39         749.86       2781.70"
      ]
     },
     "execution_count": 15,
     "metadata": {},
     "output_type": "execute_result"
    }
   ],
   "source": [
    "test_df.columns=[col+\"_Test\" for col in test_df.columns]\n",
    "test_df.head()"
   ]
  },
  {
   "cell_type": "code",
   "execution_count": 16,
   "metadata": {},
   "outputs": [
    {
     "data": {
      "text/html": [
       "<div>\n",
       "<style scoped>\n",
       "    .dataframe tbody tr th:only-of-type {\n",
       "        vertical-align: middle;\n",
       "    }\n",
       "\n",
       "    .dataframe tbody tr th {\n",
       "        vertical-align: top;\n",
       "    }\n",
       "\n",
       "    .dataframe thead th {\n",
       "        text-align: right;\n",
       "    }\n",
       "</style>\n",
       "<table border=\"1\" class=\"dataframe\">\n",
       "  <thead>\n",
       "    <tr style=\"text-align: right;\">\n",
       "      <th></th>\n",
       "      <th>Impression_Control</th>\n",
       "      <th>Click_Control</th>\n",
       "      <th>Purchase_Control</th>\n",
       "      <th>Earning_Control</th>\n",
       "      <th>Impression_Test</th>\n",
       "      <th>Click_Test</th>\n",
       "      <th>Purchase_Test</th>\n",
       "      <th>Earning_Test</th>\n",
       "    </tr>\n",
       "  </thead>\n",
       "  <tbody>\n",
       "    <tr>\n",
       "      <th>0</th>\n",
       "      <td>82529.46</td>\n",
       "      <td>6090.08</td>\n",
       "      <td>665.21</td>\n",
       "      <td>2311.28</td>\n",
       "      <td>120103.50</td>\n",
       "      <td>3216.55</td>\n",
       "      <td>702.16</td>\n",
       "      <td>1939.61</td>\n",
       "    </tr>\n",
       "    <tr>\n",
       "      <th>1</th>\n",
       "      <td>98050.45</td>\n",
       "      <td>3382.86</td>\n",
       "      <td>315.08</td>\n",
       "      <td>1742.81</td>\n",
       "      <td>134775.94</td>\n",
       "      <td>3635.08</td>\n",
       "      <td>834.05</td>\n",
       "      <td>2929.41</td>\n",
       "    </tr>\n",
       "    <tr>\n",
       "      <th>2</th>\n",
       "      <td>82696.02</td>\n",
       "      <td>4167.97</td>\n",
       "      <td>458.08</td>\n",
       "      <td>1797.83</td>\n",
       "      <td>107806.62</td>\n",
       "      <td>3057.14</td>\n",
       "      <td>422.93</td>\n",
       "      <td>2526.24</td>\n",
       "    </tr>\n",
       "    <tr>\n",
       "      <th>3</th>\n",
       "      <td>109914.40</td>\n",
       "      <td>4910.88</td>\n",
       "      <td>487.09</td>\n",
       "      <td>1696.23</td>\n",
       "      <td>116445.28</td>\n",
       "      <td>4650.47</td>\n",
       "      <td>429.03</td>\n",
       "      <td>2281.43</td>\n",
       "    </tr>\n",
       "    <tr>\n",
       "      <th>4</th>\n",
       "      <td>108457.76</td>\n",
       "      <td>5987.66</td>\n",
       "      <td>441.03</td>\n",
       "      <td>1543.72</td>\n",
       "      <td>145082.52</td>\n",
       "      <td>5201.39</td>\n",
       "      <td>749.86</td>\n",
       "      <td>2781.70</td>\n",
       "    </tr>\n",
       "  </tbody>\n",
       "</table>\n",
       "</div>"
      ],
      "text/plain": [
       "   Impression_Control  Click_Control  Purchase_Control  Earning_Control  \\\n",
       "0            82529.46        6090.08            665.21          2311.28   \n",
       "1            98050.45        3382.86            315.08          1742.81   \n",
       "2            82696.02        4167.97            458.08          1797.83   \n",
       "3           109914.40        4910.88            487.09          1696.23   \n",
       "4           108457.76        5987.66            441.03          1543.72   \n",
       "\n",
       "   Impression_Test  Click_Test  Purchase_Test  Earning_Test  \n",
       "0        120103.50     3216.55         702.16       1939.61  \n",
       "1        134775.94     3635.08         834.05       2929.41  \n",
       "2        107806.62     3057.14         422.93       2526.24  \n",
       "3        116445.28     4650.47         429.03       2281.43  \n",
       "4        145082.52     5201.39         749.86       2781.70  "
      ]
     },
     "execution_count": 16,
     "metadata": {},
     "output_type": "execute_result"
    }
   ],
   "source": [
    "df=pd.concat([control_df,test_df],axis=1)\n",
    "df.head()"
   ]
  },
  {
   "cell_type": "markdown",
   "metadata": {},
   "source": [
    "### AB Test ( Two Sample T-test)"
   ]
  },
  {
   "cell_type": "code",
   "execution_count": 17,
   "metadata": {},
   "outputs": [],
   "source": [
    "# Step 1: Define the hypothesis\n",
    "# H0: Mean purchase value of control group is equal to mean purchase value of test group.\n",
    "# H1: Mean purchase value of control group is different than mean purchase value of test group.\n",
    "\n",
    "#OR\n",
    "\n",
    "#H0: M1=M2\n",
    "#H1: M1!=M2"
   ]
  },
  {
   "cell_type": "code",
   "execution_count": 18,
   "metadata": {},
   "outputs": [
    {
     "name": "stdout",
     "output_type": "stream",
     "text": [
      "Mean Purchase Value for Control Group: 550.8940587702316\n",
      "Mean Purchase Value for Test Group: 582.1060966484675\n"
     ]
    }
   ],
   "source": [
    "# Let's check the mean purchase values for both groups\n",
    "print(f\"Mean Purchase Value for Control Group: %s\" %df[\"Purchase_Control\"].mean())\n",
    "print(f\"Mean Purchase Value for Test Group: %s\" %df[\"Purchase_Test\"].mean())\n",
    "    \n",
    "# It seems like there is a difference between two group but there is no statistical proof \n",
    "# until an AB test is performed."
   ]
  },
  {
   "cell_type": "code",
   "execution_count": 19,
   "metadata": {},
   "outputs": [],
   "source": [
    "# Step 2: CHECK THE ASSUMPTIONS"
   ]
  },
  {
   "cell_type": "code",
   "execution_count": 20,
   "metadata": {},
   "outputs": [
    {
     "name": "stdout",
     "output_type": "stream",
     "text": [
      "Control Group: Test Stat=0.9773, p-value=0.5891\n",
      "Test Group: Test Stat=0.9589, p-value=0.1541\n"
     ]
    }
   ],
   "source": [
    "# Assumption 1: Both sample needs to have a normal distribution (Normality)\n",
    "#H0: Both sample conforms normality\n",
    "#H1: At least one of the samples do not conform normality\n",
    "\n",
    "#The Shapiro-Wilk test tests the null hypothesis that the data was drawn from a normal distribution.#\n",
    "\n",
    "# Normality test for control group\n",
    "test_stat,pvalue=shapiro(df[\"Purchase_Control\"])\n",
    "print(\"Control Group: Test Stat=%.4f, p-value=%.4f\" % (test_stat,pvalue))\n",
    "\n",
    "# Normality test for test group\n",
    "test_stat,pvalue=shapiro(df[\"Purchase_Test\"])\n",
    "print(\"Test Group: Test Stat=%.4f, p-value=%.4f\" % (test_stat,pvalue))\n",
    "\n",
    "# if p-value < 0.05  HO is rejected.\n",
    "# if p-value > 0.05 HO is not rejected.\n"
   ]
  },
  {
   "cell_type": "markdown",
   "metadata": {},
   "source": [
    "### **---->Since p values are smaller than 0.05 H0 is not denied and therefore**\n",
    "### **---->both sample meets the normality condition. Now let's check homogenous variation condition**"
   ]
  },
  {
   "cell_type": "code",
   "execution_count": 21,
   "metadata": {},
   "outputs": [
    {
     "name": "stdout",
     "output_type": "stream",
     "text": [
      "Test Stat=2.6393, p-value=0.1083\n"
     ]
    }
   ],
   "source": [
    "# Assumption 2: Both sample needs to have the same population variances (Homogeneity of Varience)\n",
    "# H0: Variances are homogeneous\n",
    "# H1: Variances are not homogeneous\n",
    "\n",
    "# Perform Levene test for equal variances\n",
    "\n",
    "test_stat,pvalue=levene(df[\"Purchase_Control\"],\n",
    "                       df[\"Purchase_Test\"])\n",
    "print(\"Test Stat=%.4f, p-value=%.4f\" % (test_stat,pvalue))\n",
    "\n",
    "# if p-value < 0.05  HO is rejected.\n",
    "# if p-value > 0.05 HO is not rejected."
   ]
  },
  {
   "cell_type": "markdown",
   "metadata": {},
   "source": [
    "### **---->Levene test gives a p value for equal variances. In this example p value is 0.1 and bigger than 0.05 and therefore**\n",
    "### **---->samples meet the homogeneity of variance assumption**"
   ]
  },
  {
   "cell_type": "code",
   "execution_count": 22,
   "metadata": {},
   "outputs": [],
   "source": [
    "#STEP 3: PERFORM THE SUITABLE TEST AND INTERPRET THE HYPOTHESIS"
   ]
  },
  {
   "cell_type": "code",
   "execution_count": 23,
   "metadata": {},
   "outputs": [
    {
     "name": "stdout",
     "output_type": "stream",
     "text": [
      "Test Stat=-0.9416, p-value=0.3493\n"
     ]
    }
   ],
   "source": [
    "# If the conditions are met T-test is performed.\n",
    "\n",
    "test_stat,pvalue=ttest_ind(df[\"Purchase_Control\"],\n",
    "                       df[\"Purchase_Test\"],\n",
    "                          equal_var=True)\n",
    "print(\"Test Stat=%.4f, p-value=%.4f\" % (test_stat,pvalue))\n",
    "# if p-value < 0.05  HO is rejected.\n",
    "# if p-value > 0.05 HO is not rejected.\n",
    "\n",
    "# H0: M1=M2\n",
    "# H1: M1!=M2\n"
   ]
  },
  {
   "cell_type": "markdown",
   "metadata": {},
   "source": [
    "- **Since the p value of 0.3493 from T-test is bigger than the threshold 0.05, Null Hypothesis cannot be rejected.**\n",
    "> **Mean value of purchase for control and test groups are not different according to statistical methods.** \n",
    ">> **It may seem like these two means are different at first glance** \n",
    ">>> **Upon performing statistical tests, we have seen that this difference was merely a chance and cannot be generalized**\n",
    "\n"
   ]
  },
  {
   "cell_type": "markdown",
   "metadata": {},
   "source": [
    "### Why is T-test is performed and not others?\n",
    "* Since both \"normality\" and \"homogeneity of variance\" assumptions are met, T-test is performed at the end to check the hypothesis."
   ]
  },
  {
   "cell_type": "markdown",
   "metadata": {},
   "source": [
    "## Recommendations\n",
    "* There is no statistical difference between average bidding and maximum bidding strategies for our customer and therefore\n",
    "* there is no need for our customer to change their CPC method from average bidding to maximum bidding."
   ]
  },
  {
   "cell_type": "code",
   "execution_count": null,
   "metadata": {},
   "outputs": [],
   "source": []
  }
 ],
 "metadata": {
  "kernelspec": {
   "display_name": "Python 3",
   "language": "python",
   "name": "python3"
  },
  "language_info": {
   "codemirror_mode": {
    "name": "ipython",
    "version": 3
   },
   "file_extension": ".py",
   "mimetype": "text/x-python",
   "name": "python",
   "nbconvert_exporter": "python",
   "pygments_lexer": "ipython3",
   "version": "3.8.3"
  }
 },
 "nbformat": 4,
 "nbformat_minor": 4
}
